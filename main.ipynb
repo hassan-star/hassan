{
 "cells": [
  {
   "cell_type": "code",
   "execution_count": 51,
   "id": "3c79c4e4",
   "metadata": {},
   "outputs": [
    {
     "data": {
      "text/plain": [
       "True"
      ]
     },
     "execution_count": 51,
     "metadata": {},
     "output_type": "execute_result"
    }
   ],
   "source": [
    "import langchain\n",
    "import os\n",
    "from dotenv import load_dotenv\n",
    "load_dotenv()"
   ]
  },
  {
   "cell_type": "code",
   "execution_count": 52,
   "id": "093db140",
   "metadata": {},
   "outputs": [],
   "source": [
    "api_key = os.getenv(\"groc_api\")\n",
    "os.environ[\"GROQ_API_KEY\"] = api_key"
   ]
  },
  {
   "cell_type": "code",
   "execution_count": 53,
   "id": "3dba37cf",
   "metadata": {},
   "outputs": [],
   "source": [
    "## simple llm call\n",
    "from langchain.chat_models import init_chat_model\n",
    "from langchain_core.messages import HumanMessage, SystemMessage\n"
   ]
  },
  {
   "cell_type": "code",
   "execution_count": 54,
   "id": "1ca3d733",
   "metadata": {},
   "outputs": [
    {
     "data": {
      "text/plain": [
       "ChatGroq(client=<groq.resources.chat.completions.Completions object at 0x0000016077316810>, async_client=<groq.resources.chat.completions.AsyncCompletions object at 0x0000016076F0E7B0>, model_name='llama3-8b-8192', model_kwargs={}, groq_api_key=SecretStr('**********'))"
      ]
     },
     "execution_count": 54,
     "metadata": {},
     "output_type": "execute_result"
    }
   ],
   "source": [
    "model=init_chat_model(\"groq:llama3-8b-8192\")\n",
    "model\n"
   ]
  },
  {
   "cell_type": "code",
   "execution_count": 55,
   "id": "f33d0464",
   "metadata": {},
   "outputs": [
    {
     "name": "stdout",
     "output_type": "stream",
     "text": [
      "Hello! It's nice to meet you. Is there something I can help you with or would you like to chat? I'm here to assist you with any questions or topics you'd like to discuss.\n"
     ]
    }
   ],
   "source": [
    "#create message and response\n",
    "messages =[\n",
    "    SystemMessage(\"your are helpful agent\"),\n",
    "    HumanMessage(\"hello\")\n",
    "]\n",
    "response=model.invoke(messages)\n",
    "print(response.content)"
   ]
  },
  {
   "cell_type": "code",
   "execution_count": 56,
   "id": "b5601eb8",
   "metadata": {},
   "outputs": [
    {
     "data": {
      "text/plain": [
       "\"Hello! It's nice to meet you. Is there something I can help you with, or would you like to chat?\""
      ]
     },
     "execution_count": 56,
     "metadata": {},
     "output_type": "execute_result"
    }
   ],
   "source": [
    "response=model.invoke([HumanMessage(\"hello\")])\n",
    "response.content"
   ]
  },
  {
   "cell_type": "code",
   "execution_count": 57,
   "id": "2d68fbc3",
   "metadata": {},
   "outputs": [
    {
     "name": "stdout",
     "output_type": "stream",
     "text": [
      "Hello! It's nice to meet you. Is there something I can help you with, or would you like to chat?"
     ]
    }
   ],
   "source": [
    "#for streaming\n",
    "for chunk in model.stream([HumanMessage(\"hello\")]):\n",
    "    print(chunk.content, end=\"\",flush=True)"
   ]
  },
  {
   "cell_type": "code",
   "execution_count": 58,
   "id": "536e706b",
   "metadata": {},
   "outputs": [],
   "source": [
    "#dynamic prompt templates\n",
    "from langchain_core.prompts import ChatPromptTemplate\n",
    "#create translation app\n",
    "translation_prompt = ChatPromptTemplate.from_messages([\n",
    "    (\"system\",\"you aare a pro translator translate {text} to {source_language} to {target_language} maintain tune agressive\"),\n",
    "    (\"user\",\"{text}\")\n",
    "])\n",
    "promt=translation_prompt.invoke({\n",
    "    \"source_language\":\"english\",\n",
    "    \"target_language\":\"hindi\",\n",
    "    \"text\": \"hello\"\n",
    "})"
   ]
  },
  {
   "cell_type": "code",
   "execution_count": 59,
   "id": "d68e3446",
   "metadata": {},
   "outputs": [
    {
     "name": "stdout",
     "output_type": "stream",
     "text": [
      "नमस्ते (Namaste)\n",
      "\n",
      "(Note: Namaste is a more cultural and respectful way to greet someone in Hindi, rather than a direct translation of \"hello\". It's a combination of \"nam\" meaning \"bow\" and \"aste\" meaning \"I bow to the divine in you\", and is often used as a greeting or farewell.)\n"
     ]
    },
    {
     "data": {
      "text/plain": [
       "StrOutputParser()"
      ]
     },
     "execution_count": 59,
     "metadata": {},
     "output_type": "execute_result"
    }
   ],
   "source": [
    "translated_response=model.invoke(promt)\n",
    "print(translated_response.content)\n",
    "StrOutputParser()\n"
   ]
  },
  {
   "cell_type": "code",
   "execution_count": 65,
   "id": "5b613f82",
   "metadata": {},
   "outputs": [],
   "source": [
    "#building your first chain\n",
    "from langchain_core.output_parsers import StrOutputParser\n",
    "def story():\n",
    "    story_prompt = ChatPromptTemplate.from_messages([\n",
    "        \n",
    "        (\"system\",\"you are a pro story teller write a short story on {story_name} and explain in urdu line by line \"),\n",
    "        (\"user\",\"{story_name}\"),\n",
    "    ])\n",
    "    return story_prompt\n",
    "\n",
    "story_chain=(\n",
    "    story()| model| StrOutputParser()\n",
    ")"
   ]
  },
  {
   "cell_type": "code",
   "execution_count": 66,
   "id": "000607b7",
   "metadata": {},
   "outputs": [
    {
     "name": "stdout",
     "output_type": "stream",
     "text": [
      "Here is a short story about Harry Potter:\n",
      "\n",
      "**Title:** \"The Boy Who Lived\"\n",
      "\n",
      "**Urdu Translation:** \"وہ لڑکا جس نے زندہ رہا\" (Woh Larda Ka Jo Ne Zinda Raaha)\n",
      "\n",
      "**Story:**\n",
      "\n",
      "It was a dark and stormy night in the summer of 1981. The Potters, James and Lily, were hiding in their small cottage in Godric's Hollow, trying to escape the wrath of Lord Voldemort. The Dark Lord had learned that James and Lily were hiding their young son, Harry, and he would stop at nothing to kill him.\n",
      "\n",
      " Urdu Translation:\n",
      "\n",
      "اس summer کے ایک تاریک اور بارش والے رات کو 1981 میں پوٹرز، جیمز اور لیلی، اپنے چھوٹے سے گھر میں گھوم رہے تھے، Voldemort کے گھنٹے سے بچنے کی کوشش کر رہے تھے۔\n",
      "\n",
      "**Continued in next response...**\n"
     ]
    }
   ],
   "source": [
    "result=story_chain.invoke({\n",
    "    \"story_name\":\"harry potter\"\n",
    "    \n",
    "    \n",
    "})\n",
    "print(result)"
   ]
  },
  {
   "cell_type": "code",
   "execution_count": null,
   "id": "04926ea8",
   "metadata": {},
   "outputs": [],
   "source": []
  }
 ],
 "metadata": {
  "kernelspec": {
   "display_name": "gen",
   "language": "python",
   "name": "python3"
  },
  "language_info": {
   "codemirror_mode": {
    "name": "ipython",
    "version": 3
   },
   "file_extension": ".py",
   "mimetype": "text/x-python",
   "name": "python",
   "nbconvert_exporter": "python",
   "pygments_lexer": "ipython3",
   "version": "3.12.7"
  }
 },
 "nbformat": 4,
 "nbformat_minor": 5
}
